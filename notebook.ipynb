{
 "cells": [
  {
   "cell_type": "code",
   "execution_count": null,
   "metadata": {},
   "outputs": [],
   "source": [
    "import io\n",
    "import sqlite3\n",
    "import pandas as pd\n",
    "import matplotlib.pyplot as plt"
   ]
  },
  {
   "cell_type": "code",
   "execution_count": null,
   "metadata": {},
   "outputs": [],
   "source": [
    "conn= sqlite3.connect('tp1.db')\n",
    "cursor= conn.cursor()"
   ]
  },
  {
   "cell_type": "code",
   "execution_count": null,
   "metadata": {},
   "outputs": [],
   "source": [
    "f= io.open('despesas_publicas_tp1.sql', 'r')\n",
    "sql= f.read()\n",
    "cursor.executescript(sql)"
   ]
  },
  {
   "cell_type": "code",
   "execution_count": null,
   "metadata": {},
   "outputs": [],
   "source": [
    "df= pd.read_sql_query(\"SELECT * FROM ORGAO ORDER BY QTD_ORGAOS_SUBORDINADOS DESC\", conn)\n",
    "df"
   ]
  },
  {
   "cell_type": "code",
   "execution_count": null,
   "metadata": {},
   "outputs": [],
   "source": [
    "df = pd.read_sql_query(\"SELECT P.NOME_PROGRAMA_GOVERNO, SUM(D.VALOR_DESPESA) AS VALOR_DESPESA \" + \n",
    "                       \"FROM DESPESA_PUBLICA AS D \" +\n",
    "                       \"INNER JOIN PROGRAMA_GOVERNO AS P \" +\n",
    "                       \"ON D.COD_PROGRAMA_GOVERNO = P.COD_PROGRAMA_GOVERNO \" + \n",
    "                       \"GROUP BY P.NOME_PROGRAMA_GOVERNO \" +\n",
    "                       \"HAVING SUM(VALOR_DESPESA) > 0 \" +\n",
    "                       \"ORDER BY VALOR_DESPESA DESC\", conn)\n",
    "df"
   ]
  },
  {
   "cell_type": "code",
   "execution_count": null,
   "metadata": {},
   "outputs": [],
   "source": [
    "df = pd.read_sql_query(\"SELECT D.MES_DESPESA, SUM(D.VALOR_DESPESA) AS VALOR_DESPESA \" + \n",
    "                       \"FROM DESPESA_PUBLICA AS D \" +\n",
    "                       \"INNER JOIN DETALHAMENTO_FUNCAO AS DF \" +\n",
    "                       \"ON D.COD_DETALHAMENTO = DF.COD_DETALHAMENTO \" +\n",
    "                       \"INNER JOIN FUNCAO AS F \" +\n",
    "                       \"ON DF.COD_FUNCAO = F.COD_FUNCAO \" +\n",
    "                       \"WHERE F.NOME_FUNCAO = 'Educação' \" +\n",
    "                       \"GROUP BY D.MES_DESPESA \" +\n",
    "                       \"ORDER BY D.MES_DESPESA\", conn)\n",
    "df"
   ]
  },
  {
   "cell_type": "code",
   "execution_count": null,
   "metadata": {},
   "outputs": [],
   "source": [
    "plt.bar(df['MES_DESPESA'].tolist(), df['VALOR_DESPESA'].tolist())\n",
    "\n",
    "plt.xlabel(\"Mês/2018\")\n",
    "plt.ylabel(\"Total Despesa Mensal\")\n",
    "plt.show()"
   ]
  },
  {
   "cell_type": "markdown",
   "metadata": {},
   "source": [
    "# 1. Liste todos os códigos e nomes de funções da subfunção que possui o maior número de funções.\n"
   ]
  },
  {
   "cell_type": "code",
   "execution_count": null,
   "metadata": {},
   "outputs": [],
   "source": [
    "df= pd.read_sql_query(\"SELECT cod_funcao, nome_funcao FROM Funcao NATURAL JOIN Detalhamento_Funcao \"+\n",
    "                      \"WHERE cod_subfuncao IN (SELECT cod_subfuncao FROM (SELECT cod_subfuncao, MAX(NRO_FUNCAO) \"+\n",
    "                          \"FROM (SELECT cod_subfuncao, COUNT(cod_funcao) NRO_FUNCAO FROM \"+\n",
    "                              \"Funcao NATURAL JOIN Detalhamento_Funcao GROUP BY cod_subfuncao)))\", conn)\n",
    "df"
   ]
  },
  {
   "cell_type": "markdown",
   "metadata": {},
   "source": [
    "# 10. Liste todas as despesas públicas (código da despesa, mês e ano da despesa, modalidade, valor), ordenadas de forma decrescente pelo valor, em que o programa de governo é aquele que possui o maior valor total em despesas durante o ano de 2018."
   ]
  },
  {
   "cell_type": "code",
   "execution_count": null,
   "metadata": {},
   "outputs": [],
   "source": [
    "df= pd.read_sql_query(\"SELECT cod_despesa, mes_despesa, ano_despesa, modalidade_despesa, valor_despesa FROM Despesa_Publica \"+\n",
    "                      \"WHERE ano_despesa=2018 AND cod_programa_governo = \"+\n",
    "                          \"(SELECT cod_programa_governo FROM Despesa_Publica WHERE valor_despesa=\"+\n",
    "                              \"(SELECT MAX(valor_despesa) FROM Despesa_Publica))\"+\n",
    "                      \" ORDER BY valor_despesa DESC\", conn)\n",
    "df"
   ]
  },
  {
   "cell_type": "markdown",
   "metadata": {},
   "source": [
    "# 9. Liste todas as despesas públicas (código da despesa, mês e ano da despesa, modalidade, valor) em que o órgão responsável é aquele que possui um número de órgãos subordinados maior do que a média."
   ]
  },
  {
   "cell_type": "code",
   "execution_count": null,
   "metadata": {},
   "outputs": [],
   "source": []
  },
  {
   "cell_type": "markdown",
   "metadata": {},
   "source": [
    "# 7. Liste os programas de governo e a quantidade de órgãos governamentais distintos envolvidos nas despesas públicas desses programas. Nesta consulta, desconsidere valores de despesa negativos ou iguais a zero no período."
   ]
  },
  {
   "cell_type": "code",
   "execution_count": null,
   "metadata": {},
   "outputs": [],
   "source": [
    "df= pd.read_sql_query(\"SELECT nome_programa_governo, count(cod_orgao) as NUMERO_ORGAOS, valor_despesa \"+\n",
    "                      \"FROM Orgao NATURAL JOIN Despesa_Publica NATURAL JOIN Programa_Governo \" +\n",
    "                      \"WHERE valor_despesa>0 GROUP BY cod_programa_governo \"+\n",
    "                      \"ORDER BY nome_programa_governo\", conn)\n",
    "df"
   ]
  },
  {
   "cell_type": "markdown",
   "metadata": {},
   "source": [
    "# 11. Liste os códigos e nomes dos órgãos governamentais relacionados ao programa de governo (ou programas, caso haja empate) que alcançou mais registros de despesas públicas durante o ano.\n"
   ]
  },
  {
   "cell_type": "code",
   "execution_count": null,
   "metadata": {},
   "outputs": [],
   "source": [
    "df= pd.read_sql_query(\"SELECT cod_orgao, nome_orgao FROM Orgao NATURAL JOIN Despesa_Publica WHERE cod_programa_governo IN \"+\n",
    "                          \"(SELECT cod_programa_governo FROM (SELECT cod_programa_governo, max(NRO_REGISTROS) FROM \"+\n",
    "                              \"(SELECT cod_programa_governo, count(cod_programa_governo) as NRO_REGISTROS \"+\n",
    "                                  \"FROM Despesa_Publica GROUP BY cod_programa_governo)))\",conn)\n",
    "df"
   ]
  },
  {
   "cell_type": "code",
   "execution_count": null,
   "metadata": {},
   "outputs": [],
   "source": [
    "#AUXILIAR PARA 11\n",
    "df= pd.read_sql_query(\"SELECT cod_programa_governo, count(cod_programa_governo) as NRO_REGISTROS FROM Despesa_Publica \"+\n",
    "                                  \"GROUP BY cod_programa_governo\",conn)\n",
    "df"
   ]
  },
  {
   "cell_type": "code",
   "execution_count": null,
   "metadata": {},
   "outputs": [],
   "source": [
    "#AUXILIAR DA AUXILIAR\n",
    "df= pd.read_sql_query(\"SELECT sum(NRO_REGISTROS) FROM (SELECT count(cod_programa_governo) as NRO_REGISTROS FROM Despesa_Publica \"+\n",
    "                                  \"GROUP BY cod_programa_governo)\",conn)\n",
    "df"
   ]
  },
  {
   "cell_type": "markdown",
   "metadata": {},
   "source": [
    "# 2. Liste a média de despesas públicas por função (nome) e subfunção (nome), apenas nos casos em que a média excedeu mil reais."
   ]
  },
  {
   "cell_type": "code",
   "execution_count": null,
   "metadata": {},
   "outputs": [],
   "source": [
    "df= pd.read_sql_query(\"SELECT nome_funcao, nome_subfuncao, avg(valor_despesa) AS MEDIA_DESPESAS \"+\n",
    "                      \"FROM (Subfuncao NATURAL JOIN Detalhamento_Funcao NATURAL JOIN Funcao) \"+\n",
    "                      \"NATURAL JOIN Despesa_Publica GROUP BY cod_funcao, cod_subfuncao HAVING avg(valor_despesa)>1000 \"+\n",
    "                      \"ORDER BY avg(valor_despesa) DESC\", conn)\n",
    "df"
   ]
  },
  {
   "cell_type": "code",
   "execution_count": null,
   "metadata": {},
   "outputs": [],
   "source": [
    "#(8+1+1+1+1)Liste a m\u0013edia de despesas p\u0013ublicas por fun\u0018c~ao (nome) e subfun\u0018c~ao (nome), apenas nos\n",
    "#casos em que a m\u0013edia excedeu mil reais.\n",
    "df= pd.read_sql_query(\"SELECT nome_funcao, nome_subfuncao, avg(valor_despesa) AS MEDIA_DESPESAS \"+\n",
    "                      \"FROM (Subfuncao NATURAL JOIN Detalhamento_Funcao NATURAL JOIN Funcao) \"+\n",
    "                      \"NATURAL JOIN Despesa_Publica GROUP BY cod_despesa HAVING avg(valor_despesa)>1000 \"+\n",
    "                      \"ORDER BY avg(valor_despesa) DESC\", conn)\n",
    "df"
   ]
  },
  {
   "cell_type": "code",
   "execution_count": null,
   "metadata": {},
   "outputs": [],
   "source": [
    "df= pd.read_sql_query(\"SELECT DISTINCT nome_funcao, valor_despesa \"+\n",
    "                      \"FROM Funcao NATURAL JOIN Detalhamento_Funcao NATURAL JOIN Despesa_Publica\", conn)\n",
    "df"
   ]
  },
  {
   "cell_type": "code",
   "execution_count": null,
   "metadata": {},
   "outputs": [],
   "source": [
    "df= pd.read_sql_query(\"SELECT DISTINCT modalidade_despesa, valor_despesa, nome_orgao \"+\n",
    "                      \"FROM Orgao NATURAL JOIN (SELECT * FROM Despesa_Publica \"+\n",
    "                      \"WHERE modalidade_despesa= 'Reserva de Contingência')\", conn)\n",
    "df"
   ]
  },
  {
   "cell_type": "code",
   "execution_count": null,
   "metadata": {},
   "outputs": [],
   "source": [
    "df= pd.read_sql_query(\"SELECT DISTINCT valor_despesa, nome_programa_governo \"+\n",
    "                      \"FROM Despesa_Publica NATURAL JOIN (SELECT * FROM Programa_Governo \"+\n",
    "                      \"WHERE nome_programa_governo='ENEM')\", conn)\n",
    "df"
   ]
  },
  {
   "cell_type": "code",
   "execution_count": null,
   "metadata": {},
   "outputs": [],
   "source": [
    "df= pd.read_sql_query(\"SELECT DISTINCT nome_programa_governo, qtd_orgaos_subordinados, valor_despesa \"+\n",
    "                      \"FROM Despesa_Publica NATURAL JOIN (SELECT * FROM Orgao \"+\n",
    "                      \"WHERE nome_orgao= 'Ministério da Educação') NATURAL JOIN Programa_Governo\", conn)\n",
    "df"
   ]
  },
  {
   "cell_type": "code",
   "execution_count": null,
   "metadata": {},
   "outputs": [],
   "source": [
    "conn.close()"
   ]
  }
 ],
 "metadata": {
  "kernelspec": {
   "display_name": "Python 3",
   "language": "python",
   "name": "python3"
  },
  "language_info": {
   "codemirror_mode": {
    "name": "ipython",
    "version": 3
   },
   "file_extension": ".py",
   "mimetype": "text/x-python",
   "name": "python",
   "nbconvert_exporter": "python",
   "pygments_lexer": "ipython3",
   "version": "3.7.1"
  }
 },
 "nbformat": 4,
 "nbformat_minor": 2
}
